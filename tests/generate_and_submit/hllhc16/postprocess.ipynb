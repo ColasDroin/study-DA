{
 "cells": [
  {
   "cell_type": "code",
   "execution_count": 1,
   "metadata": {},
   "outputs": [],
   "source": [
    "from study_da.postprocess import aggregate_output_data\n"
   ]
  },
  {
   "cell_type": "code",
   "execution_count": 2,
   "metadata": {},
   "outputs": [
    {
     "name": "stderr",
     "output_type": "stream",
     "text": [
      "WARNING:root:Analysis of output simulation files started\n"
     ]
    },
    {
     "ename": "ReaderError",
     "evalue": "unacceptable character #x0000: special characters are not allowed\n  in \"example_tune_scan/tree.yaml\", position 0",
     "output_type": "error",
     "traceback": [
      "\u001b[0;31m---------------------------------------------------------------------------\u001b[0m",
      "\u001b[0;31mReaderError\u001b[0m                               Traceback (most recent call last)",
      "Cell \u001b[0;32mIn[2], line 1\u001b[0m\n\u001b[0;32m----> 1\u001b[0m df_final \u001b[38;5;241m=\u001b[39m \u001b[43maggregate_output_data\u001b[49m\u001b[43m(\u001b[49m\u001b[38;5;124;43m\"\u001b[39;49m\u001b[38;5;124;43mexample_tune_scan/tree.yaml\u001b[39;49m\u001b[38;5;124;43m\"\u001b[39;49m\u001b[43m,\u001b[49m\u001b[43m \u001b[49m\u001b[43ml_group_by_parameters\u001b[49m\u001b[43m \u001b[49m\u001b[38;5;241;43m=\u001b[39;49m\u001b[43m \u001b[49m\u001b[43m[\u001b[49m\u001b[38;5;124;43m\"\u001b[39;49m\u001b[38;5;124;43mname base collider\u001b[39;49m\u001b[38;5;124;43m\"\u001b[39;49m\u001b[43m,\u001b[49m\u001b[43m \u001b[49m\u001b[38;5;124;43m\"\u001b[39;49m\u001b[38;5;124;43mqx\u001b[39;49m\u001b[38;5;124;43m\"\u001b[39;49m\u001b[43m,\u001b[49m\u001b[43m \u001b[49m\u001b[38;5;124;43m\"\u001b[39;49m\u001b[38;5;124;43mqy\u001b[39;49m\u001b[38;5;124;43m\"\u001b[39;49m\u001b[43m,\u001b[49m\u001b[43m \u001b[49m\u001b[38;5;124;43m\"\u001b[39;49m\u001b[38;5;124;43mi_oct_b1\u001b[39;49m\u001b[38;5;124;43m\"\u001b[39;49m\u001b[43m,\u001b[49m\u001b[43m \u001b[49m\u001b[38;5;124;43m\"\u001b[39;49m\u001b[38;5;124;43mi_oct_b2\u001b[39;49m\u001b[38;5;124;43m\"\u001b[39;49m\u001b[43m]\u001b[49m\u001b[43m)\u001b[49m\n",
      "File \u001b[0;32m/afs/cern.ch/work/c/cdroin/private/study-DA/study_da/postprocess/postprocess.py:95\u001b[0m, in \u001b[0;36maggregate_output_data\u001b[0;34m(path_tree, l_group_by_parameters, write_output, only_keep_lost_particles, dic_parameters_of_interest, l_parameters_to_keep, name_template_parameters, path_template_parameters)\u001b[0m\n\u001b[1;32m     92\u001b[0m logging\u001b[38;5;241m.\u001b[39mwarning(\u001b[38;5;124m\"\u001b[39m\u001b[38;5;124mAnalysis of output simulation files started\u001b[39m\u001b[38;5;124m\"\u001b[39m)\n\u001b[1;32m     94\u001b[0m \u001b[38;5;66;03m# Load the tree\u001b[39;00m\n\u001b[0;32m---> 95\u001b[0m dic_tree, _ \u001b[38;5;241m=\u001b[39m \u001b[43mload_dic_from_path\u001b[49m\u001b[43m(\u001b[49m\u001b[43mpath_tree\u001b[49m\u001b[43m)\u001b[49m\n\u001b[1;32m     97\u001b[0m \u001b[38;5;66;03m# Get all jobs\u001b[39;00m\n\u001b[1;32m     98\u001b[0m dic_all_jobs \u001b[38;5;241m=\u001b[39m ConfigJobs(dic_tree)\u001b[38;5;241m.\u001b[39mfind_all_jobs()\n",
      "File \u001b[0;32m/afs/cern.ch/work/c/cdroin/private/study-DA/study_da/utils/configuration.py:42\u001b[0m, in \u001b[0;36mload_dic_from_path\u001b[0;34m(path, ryaml)\u001b[0m\n\u001b[1;32m     40\u001b[0m \u001b[38;5;66;03m# Load dic\u001b[39;00m\n\u001b[1;32m     41\u001b[0m \u001b[38;5;28;01mwith\u001b[39;00m \u001b[38;5;28mopen\u001b[39m(path, \u001b[38;5;124m\"\u001b[39m\u001b[38;5;124mr\u001b[39m\u001b[38;5;124m\"\u001b[39m) \u001b[38;5;28;01mas\u001b[39;00m fid:\n\u001b[0;32m---> 42\u001b[0m     dic \u001b[38;5;241m=\u001b[39m \u001b[43mryaml\u001b[49m\u001b[38;5;241;43m.\u001b[39;49m\u001b[43mload\u001b[49m\u001b[43m(\u001b[49m\u001b[43mfid\u001b[49m\u001b[43m)\u001b[49m\n\u001b[1;32m     44\u001b[0m \u001b[38;5;28;01mreturn\u001b[39;00m dic, ryaml\n",
      "File \u001b[0;32m/afs/cern.ch/work/c/cdroin/private/study-DA/.venv/lib/python3.11/site-packages/ruamel/yaml/main.py:449\u001b[0m, in \u001b[0;36mYAML.load\u001b[0;34m(self, stream)\u001b[0m\n\u001b[1;32m    447\u001b[0m \u001b[38;5;28mself\u001b[39m\u001b[38;5;241m.\u001b[39mdoc_infos\u001b[38;5;241m.\u001b[39mappend(DocInfo(requested_version\u001b[38;5;241m=\u001b[39mversion(\u001b[38;5;28mself\u001b[39m\u001b[38;5;241m.\u001b[39mversion)))\n\u001b[1;32m    448\u001b[0m \u001b[38;5;28mself\u001b[39m\u001b[38;5;241m.\u001b[39mtags \u001b[38;5;241m=\u001b[39m {}\n\u001b[0;32m--> 449\u001b[0m constructor, parser \u001b[38;5;241m=\u001b[39m \u001b[38;5;28;43mself\u001b[39;49m\u001b[38;5;241;43m.\u001b[39;49m\u001b[43mget_constructor_parser\u001b[49m\u001b[43m(\u001b[49m\u001b[43mstream\u001b[49m\u001b[43m)\u001b[49m\n\u001b[1;32m    450\u001b[0m \u001b[38;5;28;01mtry\u001b[39;00m:\n\u001b[1;32m    451\u001b[0m     \u001b[38;5;28;01mreturn\u001b[39;00m constructor\u001b[38;5;241m.\u001b[39mget_single_data()\n",
      "File \u001b[0;32m/afs/cern.ch/work/c/cdroin/private/study-DA/.venv/lib/python3.11/site-packages/ruamel/yaml/main.py:500\u001b[0m, in \u001b[0;36mYAML.get_constructor_parser\u001b[0;34m(self, stream)\u001b[0m\n\u001b[1;32m    498\u001b[0m     \u001b[38;5;28;01mif\u001b[39;00m \u001b[38;5;28mself\u001b[39m\u001b[38;5;241m.\u001b[39mScanner \u001b[38;5;129;01mis\u001b[39;00m \u001b[38;5;28;01mNone\u001b[39;00m:\n\u001b[1;32m    499\u001b[0m         \u001b[38;5;28mself\u001b[39m\u001b[38;5;241m.\u001b[39mScanner \u001b[38;5;241m=\u001b[39m ruamel\u001b[38;5;241m.\u001b[39myaml\u001b[38;5;241m.\u001b[39mscanner\u001b[38;5;241m.\u001b[39mScanner\n\u001b[0;32m--> 500\u001b[0m     \u001b[38;5;28;43mself\u001b[39;49m\u001b[38;5;241;43m.\u001b[39;49m\u001b[43mreader\u001b[49m\u001b[38;5;241;43m.\u001b[39;49m\u001b[43mstream\u001b[49m \u001b[38;5;241m=\u001b[39m stream\n\u001b[1;32m    501\u001b[0m \u001b[38;5;28;01melse\u001b[39;00m:\n\u001b[1;32m    502\u001b[0m     \u001b[38;5;28;01mif\u001b[39;00m \u001b[38;5;28mself\u001b[39m\u001b[38;5;241m.\u001b[39mReader \u001b[38;5;129;01mis\u001b[39;00m \u001b[38;5;129;01mnot\u001b[39;00m \u001b[38;5;28;01mNone\u001b[39;00m:\n",
      "File \u001b[0;32m/afs/cern.ch/work/c/cdroin/private/study-DA/.venv/lib/python3.11/site-packages/ruamel/yaml/reader.py:120\u001b[0m, in \u001b[0;36mReader.stream\u001b[0;34m(self, val)\u001b[0m\n\u001b[1;32m    118\u001b[0m \u001b[38;5;28mself\u001b[39m\u001b[38;5;241m.\u001b[39meof \u001b[38;5;241m=\u001b[39m \u001b[38;5;28;01mFalse\u001b[39;00m\n\u001b[1;32m    119\u001b[0m \u001b[38;5;28mself\u001b[39m\u001b[38;5;241m.\u001b[39mraw_buffer \u001b[38;5;241m=\u001b[39m \u001b[38;5;28;01mNone\u001b[39;00m\n\u001b[0;32m--> 120\u001b[0m \u001b[38;5;28;43mself\u001b[39;49m\u001b[38;5;241;43m.\u001b[39;49m\u001b[43mdetermine_encoding\u001b[49m\u001b[43m(\u001b[49m\u001b[43m)\u001b[49m\n",
      "File \u001b[0;32m/afs/cern.ch/work/c/cdroin/private/study-DA/.venv/lib/python3.11/site-packages/ruamel/yaml/reader.py:185\u001b[0m, in \u001b[0;36mReader.determine_encoding\u001b[0;34m(self)\u001b[0m\n\u001b[1;32m    183\u001b[0m         \u001b[38;5;28mself\u001b[39m\u001b[38;5;241m.\u001b[39mraw_decode \u001b[38;5;241m=\u001b[39m codecs\u001b[38;5;241m.\u001b[39mutf_8_decode  \u001b[38;5;66;03m# type: ignore\u001b[39;00m\n\u001b[1;32m    184\u001b[0m         \u001b[38;5;28mself\u001b[39m\u001b[38;5;241m.\u001b[39mencoding \u001b[38;5;241m=\u001b[39m \u001b[38;5;124m'\u001b[39m\u001b[38;5;124mutf-8\u001b[39m\u001b[38;5;124m'\u001b[39m\n\u001b[0;32m--> 185\u001b[0m \u001b[38;5;28;43mself\u001b[39;49m\u001b[38;5;241;43m.\u001b[39;49m\u001b[43mupdate\u001b[49m\u001b[43m(\u001b[49m\u001b[38;5;241;43m1\u001b[39;49m\u001b[43m)\u001b[49m\n",
      "File \u001b[0;32m/afs/cern.ch/work/c/cdroin/private/study-DA/.venv/lib/python3.11/site-packages/ruamel/yaml/reader.py:252\u001b[0m, in \u001b[0;36mReader.update\u001b[0;34m(self, length)\u001b[0m\n\u001b[1;32m    250\u001b[0m     data \u001b[38;5;241m=\u001b[39m \u001b[38;5;28mself\u001b[39m\u001b[38;5;241m.\u001b[39mraw_buffer\n\u001b[1;32m    251\u001b[0m     converted \u001b[38;5;241m=\u001b[39m \u001b[38;5;28mlen\u001b[39m(data)\n\u001b[0;32m--> 252\u001b[0m \u001b[38;5;28;43mself\u001b[39;49m\u001b[38;5;241;43m.\u001b[39;49m\u001b[43mcheck_printable\u001b[49m\u001b[43m(\u001b[49m\u001b[43mdata\u001b[49m\u001b[43m)\u001b[49m\n\u001b[1;32m    253\u001b[0m \u001b[38;5;28mself\u001b[39m\u001b[38;5;241m.\u001b[39mbuffer \u001b[38;5;241m+\u001b[39m\u001b[38;5;241m=\u001b[39m data\n\u001b[1;32m    254\u001b[0m \u001b[38;5;28mself\u001b[39m\u001b[38;5;241m.\u001b[39mraw_buffer \u001b[38;5;241m=\u001b[39m \u001b[38;5;28mself\u001b[39m\u001b[38;5;241m.\u001b[39mraw_buffer[converted:]\n",
      "File \u001b[0;32m/afs/cern.ch/work/c/cdroin/private/study-DA/.venv/lib/python3.11/site-packages/ruamel/yaml/reader.py:221\u001b[0m, in \u001b[0;36mReader.check_printable\u001b[0;34m(self, data)\u001b[0m\n\u001b[1;32m    219\u001b[0m start, character \u001b[38;5;241m=\u001b[39m non_printable_match\n\u001b[1;32m    220\u001b[0m position \u001b[38;5;241m=\u001b[39m \u001b[38;5;28mself\u001b[39m\u001b[38;5;241m.\u001b[39mindex \u001b[38;5;241m+\u001b[39m (\u001b[38;5;28mlen\u001b[39m(\u001b[38;5;28mself\u001b[39m\u001b[38;5;241m.\u001b[39mbuffer) \u001b[38;5;241m-\u001b[39m \u001b[38;5;28mself\u001b[39m\u001b[38;5;241m.\u001b[39mpointer) \u001b[38;5;241m+\u001b[39m start\n\u001b[0;32m--> 221\u001b[0m \u001b[38;5;28;01mraise\u001b[39;00m ReaderError(\n\u001b[1;32m    222\u001b[0m     \u001b[38;5;28mself\u001b[39m\u001b[38;5;241m.\u001b[39mname,\n\u001b[1;32m    223\u001b[0m     position,\n\u001b[1;32m    224\u001b[0m     \u001b[38;5;28mord\u001b[39m(character),\n\u001b[1;32m    225\u001b[0m     \u001b[38;5;124m'\u001b[39m\u001b[38;5;124municode\u001b[39m\u001b[38;5;124m'\u001b[39m,\n\u001b[1;32m    226\u001b[0m     \u001b[38;5;124m'\u001b[39m\u001b[38;5;124mspecial characters are not allowed\u001b[39m\u001b[38;5;124m'\u001b[39m,\n\u001b[1;32m    227\u001b[0m )\n",
      "\u001b[0;31mReaderError\u001b[0m: unacceptable character #x0000: special characters are not allowed\n  in \"example_tune_scan/tree.yaml\", position 0"
     ]
    }
   ],
   "source": [
    "df_final = aggregate_output_data(\"example_tune_scan/tree.yaml\", l_group_by_parameters = [\"name base collider\", \"qx\", \"qy\", \"i_oct_b1\", \"i_oct_b2\"])"
   ]
  }
 ],
 "metadata": {
  "kernelspec": {
   "display_name": ".venv",
   "language": "python",
   "name": "python3"
  },
  "language_info": {
   "codemirror_mode": {
    "name": "ipython",
    "version": 3
   },
   "file_extension": ".py",
   "mimetype": "text/x-python",
   "name": "python",
   "nbconvert_exporter": "python",
   "pygments_lexer": "ipython3",
   "version": "3.11.7"
  }
 },
 "nbformat": 4,
 "nbformat_minor": 2
}
