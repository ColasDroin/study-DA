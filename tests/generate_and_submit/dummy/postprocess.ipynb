{
 "cells": [
  {
   "cell_type": "code",
   "execution_count": 1,
   "metadata": {},
   "outputs": [],
   "source": [
    "from study_da.postprocess import aggregate_output_data\n"
   ]
  },
  {
   "cell_type": "code",
   "execution_count": 2,
   "metadata": {},
   "outputs": [
    {
     "name": "stderr",
     "output_type": "stream",
     "text": [
      "WARNING:root:Analysis of output simulation files started\n",
      "WARNING:root:example_dummy_scan/n_angles_5/generation_1.py does not have output_particles.parquet\n",
      "WARNING:root:example_dummy_scan/n_angles_5/particle_file_00/generation_2.py does not have output_particles.parquet\n",
      "WARNING:root:example_dummy_scan/n_angles_5/particle_file_00/device_number_0/generation_3.py does not have output_particles.parquet\n",
      "WARNING:root:example_dummy_scan/n_angles_5/particle_file_00/device_number_1/generation_3.py does not have output_particles.parquet\n",
      "WARNING:root:example_dummy_scan/n_angles_5/particle_file_00/device_number_2/generation_3.py does not have output_particles.parquet\n",
      "WARNING:root:example_dummy_scan/n_angles_5/particle_file_01/generation_2.py does not have output_particles.parquet\n",
      "WARNING:root:example_dummy_scan/n_angles_5/particle_file_01/device_number_0/generation_3.py does not have output_particles.parquet\n",
      "WARNING:root:example_dummy_scan/n_angles_5/particle_file_01/device_number_1/generation_3.py does not have output_particles.parquet\n",
      "WARNING:root:example_dummy_scan/n_angles_5/particle_file_01/device_number_2/generation_3.py does not have output_particles.parquet\n",
      "WARNING:root:example_dummy_scan/n_angles_5/particle_file_02/generation_2.py does not have output_particles.parquet\n",
      "WARNING:root:example_dummy_scan/n_angles_5/particle_file_02/device_number_0/generation_3.py does not have output_particles.parquet\n",
      "WARNING:root:example_dummy_scan/n_angles_5/particle_file_02/device_number_1/generation_3.py does not have output_particles.parquet\n",
      "WARNING:root:example_dummy_scan/n_angles_5/particle_file_02/device_number_2/generation_3.py does not have output_particles.parquet\n"
     ]
    },
    {
     "name": "stdout",
     "output_type": "stream",
     "text": [
      "[Errno 2] No such file or directory: \"{'gen': 1, 'l_keys': ['n_angles_5', 'generation_1']}/output_particles.parquet\"\n",
      "[Errno 2] No such file or directory: \"{'gen': 2, 'l_keys': ['n_angles_5', 'particle_file_00', 'generation_2']}/output_particles.parquet\"\n",
      "[Errno 2] No such file or directory: \"{'gen': 3, 'l_keys': ['n_angles_5', 'particle_file_00', 'device_number_0', 'generation_3']}/output_particles.parquet\"\n",
      "[Errno 2] No such file or directory: \"{'gen': 3, 'l_keys': ['n_angles_5', 'particle_file_00', 'device_number_1', 'generation_3']}/output_particles.parquet\"\n",
      "[Errno 2] No such file or directory: \"{'gen': 3, 'l_keys': ['n_angles_5', 'particle_file_00', 'device_number_2', 'generation_3']}/output_particles.parquet\"\n",
      "[Errno 2] No such file or directory: \"{'gen': 2, 'l_keys': ['n_angles_5', 'particle_file_01', 'generation_2']}/output_particles.parquet\"\n",
      "[Errno 2] No such file or directory: \"{'gen': 3, 'l_keys': ['n_angles_5', 'particle_file_01', 'device_number_0', 'generation_3']}/output_particles.parquet\"\n",
      "[Errno 2] No such file or directory: \"{'gen': 3, 'l_keys': ['n_angles_5', 'particle_file_01', 'device_number_1', 'generation_3']}/output_particles.parquet\"\n",
      "[Errno 2] No such file or directory: \"{'gen': 3, 'l_keys': ['n_angles_5', 'particle_file_01', 'device_number_2', 'generation_3']}/output_particles.parquet\"\n",
      "[Errno 2] No such file or directory: \"{'gen': 2, 'l_keys': ['n_angles_5', 'particle_file_02', 'generation_2']}/output_particles.parquet\"\n",
      "[Errno 2] No such file or directory: \"{'gen': 3, 'l_keys': ['n_angles_5', 'particle_file_02', 'device_number_0', 'generation_3']}/output_particles.parquet\"\n",
      "[Errno 2] No such file or directory: \"{'gen': 3, 'l_keys': ['n_angles_5', 'particle_file_02', 'device_number_1', 'generation_3']}/output_particles.parquet\"\n",
      "[Errno 2] No such file or directory: \"{'gen': 3, 'l_keys': ['n_angles_5', 'particle_file_02', 'device_number_2', 'generation_3']}/output_particles.parquet\"\n"
     ]
    },
    {
     "ename": "TypeError",
     "evalue": "list indices must be integers or slices, not str",
     "output_type": "error",
     "traceback": [
      "\u001b[0;31m---------------------------------------------------------------------------\u001b[0m",
      "\u001b[0;31mTypeError\u001b[0m                                 Traceback (most recent call last)",
      "Cell \u001b[0;32mIn[2], line 1\u001b[0m\n\u001b[0;32m----> 1\u001b[0m df_final \u001b[38;5;241m=\u001b[39m \u001b[43maggregate_output_data\u001b[49m\u001b[43m(\u001b[49m\u001b[38;5;124;43m\"\u001b[39;49m\u001b[38;5;124;43mexample_dummy_scan/tree.yaml\u001b[39;49m\u001b[38;5;124;43m\"\u001b[39;49m\u001b[43m,\u001b[49m\u001b[43m \u001b[49m\u001b[43ml_group_by_parameters\u001b[49m\u001b[43m \u001b[49m\u001b[38;5;241;43m=\u001b[39;49m\u001b[43m \u001b[49m\u001b[43m[\u001b[49m\u001b[38;5;124;43m\"\u001b[39;49m\u001b[38;5;124;43mname base collider\u001b[39;49m\u001b[38;5;124;43m\"\u001b[39;49m\u001b[43m,\u001b[49m\u001b[43m \u001b[49m\u001b[38;5;124;43m\"\u001b[39;49m\u001b[38;5;124;43mqx\u001b[39;49m\u001b[38;5;124;43m\"\u001b[39;49m\u001b[43m,\u001b[49m\u001b[43m \u001b[49m\u001b[38;5;124;43m\"\u001b[39;49m\u001b[38;5;124;43mqy\u001b[39;49m\u001b[38;5;124;43m\"\u001b[39;49m\u001b[43m,\u001b[49m\u001b[43m \u001b[49m\u001b[38;5;124;43m\"\u001b[39;49m\u001b[38;5;124;43mi_oct_b1\u001b[39;49m\u001b[38;5;124;43m\"\u001b[39;49m\u001b[43m,\u001b[49m\u001b[43m \u001b[49m\u001b[38;5;124;43m\"\u001b[39;49m\u001b[38;5;124;43mi_oct_b2\u001b[39;49m\u001b[38;5;124;43m\"\u001b[39;49m\u001b[43m]\u001b[49m\u001b[43m)\u001b[49m\n",
      "File \u001b[0;32m/afs/cern.ch/work/c/cdroin/private/study-DA/study_da/postprocess/postprocess.py:131\u001b[0m, in \u001b[0;36maggregate_output_data\u001b[0;34m(path_tree, l_group_by_parameters, write_output, only_keep_lost_particles, dic_parameters_of_interest, l_parameters_to_keep, name_template_parameters, path_template_parameters)\u001b[0m\n\u001b[1;32m    128\u001b[0m     l_parameters_to_keep \u001b[38;5;241m=\u001b[39m \u001b[38;5;28mlist\u001b[39m(dic_parameters_of_interest\u001b[38;5;241m.\u001b[39mkeys())\n\u001b[1;32m    130\u001b[0m \u001b[38;5;66;03m# Merge and group by parameters of interest\u001b[39;00m\n\u001b[0;32m--> 131\u001b[0m df_final \u001b[38;5;241m=\u001b[39m \u001b[43mmerge_and_group_by_parameters_of_interest\u001b[49m\u001b[43m(\u001b[49m\n\u001b[1;32m    132\u001b[0m \u001b[43m    \u001b[49m\u001b[43ml_df_output\u001b[49m\u001b[43m,\u001b[49m\u001b[43m \u001b[49m\u001b[43ml_group_by_parameters\u001b[49m\u001b[43m,\u001b[49m\u001b[43m \u001b[49m\u001b[43monly_keep_lost_particles\u001b[49m\u001b[43m,\u001b[49m\u001b[43m \u001b[49m\u001b[43ml_parameters_to_keep\u001b[49m\n\u001b[1;32m    133\u001b[0m \u001b[43m\u001b[49m\u001b[43m)\u001b[49m\n\u001b[1;32m    135\u001b[0m \u001b[38;5;66;03m# Save data\u001b[39;00m\n\u001b[1;32m    136\u001b[0m \u001b[38;5;28;01mif\u001b[39;00m write_output:\n",
      "File \u001b[0;32m/afs/cern.ch/work/c/cdroin/private/study-DA/study_da/postprocess/postprocess.py:65\u001b[0m, in \u001b[0;36mmerge_and_group_by_parameters_of_interest\u001b[0;34m(df_all_sim, l_group_by_parameters, only_keep_lost_particles, l_parameters_to_keep)\u001b[0m\n\u001b[1;32m     61\u001b[0m     l_parameters_to_keep \u001b[38;5;241m=\u001b[39m \u001b[38;5;28mlist\u001b[39m(df_all_sim\u001b[38;5;241m.\u001b[39mcolumns)\n\u001b[1;32m     63\u001b[0m \u001b[38;5;28;01mif\u001b[39;00m only_keep_lost_particles:\n\u001b[1;32m     64\u001b[0m     \u001b[38;5;66;03m# Extract the particles that were lost for DA computation\u001b[39;00m\n\u001b[0;32m---> 65\u001b[0m     df_all_sim \u001b[38;5;241m=\u001b[39m df_all_sim[\u001b[43mdf_all_sim\u001b[49m\u001b[43m[\u001b[49m\u001b[38;5;124;43m\"\u001b[39;49m\u001b[38;5;124;43mstate\u001b[39;49m\u001b[38;5;124;43m\"\u001b[39;49m\u001b[43m]\u001b[49m \u001b[38;5;241m!=\u001b[39m \u001b[38;5;241m1\u001b[39m]  \u001b[38;5;66;03m# Lost particles\u001b[39;00m\n\u001b[1;32m     67\u001b[0m \u001b[38;5;66;03m# Check if the dataframe is empty\u001b[39;00m\n\u001b[1;32m     68\u001b[0m \u001b[38;5;28;01mif\u001b[39;00m df_all_sim\u001b[38;5;241m.\u001b[39mempty:\n",
      "\u001b[0;31mTypeError\u001b[0m: list indices must be integers or slices, not str"
     ]
    }
   ],
   "source": [
    "df_final = aggregate_output_data(\"example_dummy_scan/tree.yaml\", l_group_by_parameters = [\"name base collider\", \"qx\", \"qy\", \"i_oct_b1\", \"i_oct_b2\"])"
   ]
  }
 ],
 "metadata": {
  "kernelspec": {
   "display_name": ".venv",
   "language": "python",
   "name": "python3"
  },
  "language_info": {
   "codemirror_mode": {
    "name": "ipython",
    "version": 3
   },
   "file_extension": ".py",
   "mimetype": "text/x-python",
   "name": "python",
   "nbconvert_exporter": "python",
   "pygments_lexer": "ipython3",
   "version": "3.11.7"
  }
 },
 "nbformat": 4,
 "nbformat_minor": 2
}
