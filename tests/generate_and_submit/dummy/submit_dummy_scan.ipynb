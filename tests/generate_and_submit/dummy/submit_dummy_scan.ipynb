{
 "cells": [
  {
   "cell_type": "code",
   "execution_count": 1,
   "metadata": {},
   "outputs": [],
   "source": [
    "from study_da import SubmitScan\n",
    "from study_da.utils.configuration import load_dic_from_path\n"
   ]
  },
  {
   "cell_type": "code",
   "execution_count": 2,
   "metadata": {},
   "outputs": [],
   "source": [
    "study_sub = SubmitScan(\n",
    "    path_tree=\"example_dummy_scan/tree.yaml\",\n",
    "    path_python_environment=\"/afs/cern.ch/work/c/cdroin/private/study-DA/.venv\",\n",
    "    path_python_environment_container=\"/usr/local/DA_study/miniforge_docker\",\n",
    "    path_container_image=\"/cvmfs/unpacked.cern.ch/gitlab-registry.cern.ch/cdroin/da-study-docker:42ac73a5\",\n",
    ")"
   ]
  },
  {
   "cell_type": "code",
   "execution_count": 3,
   "metadata": {},
   "outputs": [
    {
     "name": "stdout",
     "output_type": "stream",
     "text": [
      "['generation_1', 'generation_2', 'generation_3']\n"
     ]
    }
   ],
   "source": [
    "# Get generation names from the scan config\n",
    "# Load the configuration\n",
    "config, ryaml = load_dic_from_path(\n",
    "    \"config_scan.yaml\"\n",
    ")\n",
    "l_gen = config[\"structure\"].keys()\n",
    "print(list(l_gen))"
   ]
  },
  {
   "cell_type": "code",
   "execution_count": 4,
   "metadata": {},
   "outputs": [],
   "source": [
    "# Define a configuration for the submission\n",
    "dic_config_jobs = {\n",
    "    'generation_1' + \".py\" : {\n",
    "                        \"context\": 'cpu',\n",
    "                \"submission_type\": \"htc\",\n",
    "                \"htc_flavor\": \"espresso\",\n",
    "    },\n",
    "    'generation_2' + \".py\" : {\n",
    "                        \"context\": 'cupy',\n",
    "                \"submission_type\": \"slurm\",\n",
    "                # \"htc_flavor\": \"microcentury\",\n",
    "    },\n",
    "    'generation_3' + \".py\" : {\n",
    "                        \"context\": 'cpu',\n",
    "                \"submission_type\": \"htc_docker\",\n",
    "                \"htc_flavor\": \"microcentury\",\n",
    "    },\n",
    "    \n",
    "}"
   ]
  },
  {
   "cell_type": "code",
   "execution_count": 5,
   "metadata": {},
   "outputs": [],
   "source": [
    "\n",
    "#study_sub.configure_jobs(dic_config_jobs = dic_config_jobs, force_configure = True)\n",
    "study_sub.configure_jobs( force_configure = True)"
   ]
  },
  {
   "cell_type": "code",
   "execution_count": 6,
   "metadata": {},
   "outputs": [],
   "source": [
    "#study_sub.submit()\n",
    "# study_sub.keep_submit_until_done(wait_time = 1/10)"
   ]
  },
  {
   "cell_type": "code",
   "execution_count": null,
   "metadata": {},
   "outputs": [],
   "source": []
  },
  {
   "cell_type": "code",
   "execution_count": null,
   "metadata": {},
   "outputs": [],
   "source": []
  },
  {
   "cell_type": "code",
   "execution_count": null,
   "metadata": {},
   "outputs": [],
   "source": []
  }
 ],
 "metadata": {
  "kernelspec": {
   "display_name": ".venv",
   "language": "python",
   "name": "python3"
  },
  "language_info": {
   "codemirror_mode": {
    "name": "ipython",
    "version": 3
   },
   "file_extension": ".py",
   "mimetype": "text/x-python",
   "name": "python",
   "nbconvert_exporter": "python",
   "pygments_lexer": "ipython3",
   "version": "3.11.7"
  }
 },
 "nbformat": 4,
 "nbformat_minor": 2
}
