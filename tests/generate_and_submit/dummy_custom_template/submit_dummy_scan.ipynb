{
 "cells": [
  {
   "cell_type": "code",
   "execution_count": 5,
   "metadata": {},
   "outputs": [],
   "source": [
    "from study_da import SubmitScan"
   ]
  },
  {
   "cell_type": "code",
   "execution_count": 6,
   "metadata": {},
   "outputs": [],
   "source": [
    "study_sub = SubmitScan(\n",
    "    path_tree=\"example_with_custom_template_and_configuration/tree.yaml\",\n",
    "    path_python_environment=\"/afs/cern.ch/work/c/cdroin/private/study-DA/.venv\",\n",
    ")"
   ]
  },
  {
   "cell_type": "code",
   "execution_count": 7,
   "metadata": {},
   "outputs": [],
   "source": [
    "\n",
    "#study_sub.configure_jobs(dic_config_jobs = dic_config_jobs, force_configure = True)\n",
    "study_sub.configure_jobs( force_configure = True)"
   ]
  },
  {
   "cell_type": "code",
   "execution_count": 8,
   "metadata": {},
   "outputs": [
    {
     "name": "stdout",
     "output_type": "stream",
     "text": [
      "DEBUG example_with_custom_template_and_configuration\n",
      "DEBUG /afs/cern.ch/work/c/cdroin/private/study-DA/tests/generate_and_submit/dummy_custom_template/example_with_custom_template_and_configuration/x_1\n",
      "DEBUG example_with_custom_template_and_configuration\n",
      "DEBUG /afs/cern.ch/work/c/cdroin/private/study-DA/tests/generate_and_submit/dummy_custom_template/example_with_custom_template_and_configuration/x_2\n",
      "DEBUG example_with_custom_template_and_configuration\n",
      "DEBUG /afs/cern.ch/work/c/cdroin/private/study-DA/tests/generate_and_submit/dummy_custom_template/example_with_custom_template_and_configuration/x_1/y_1.0\n",
      "DEBUG example_with_custom_template_and_configuration\n",
      "DEBUG /afs/cern.ch/work/c/cdroin/private/study-DA/tests/generate_and_submit/dummy_custom_template/example_with_custom_template_and_configuration/x_1/y_50.5\n",
      "DEBUG example_with_custom_template_and_configuration\n",
      "DEBUG /afs/cern.ch/work/c/cdroin/private/study-DA/tests/generate_and_submit/dummy_custom_template/example_with_custom_template_and_configuration/x_1/y_100.0\n",
      "DEBUG example_with_custom_template_and_configuration\n",
      "DEBUG /afs/cern.ch/work/c/cdroin/private/study-DA/tests/generate_and_submit/dummy_custom_template/example_with_custom_template_and_configuration/x_2/y_1.0\n",
      "DEBUG example_with_custom_template_and_configuration\n",
      "DEBUG /afs/cern.ch/work/c/cdroin/private/study-DA/tests/generate_and_submit/dummy_custom_template/example_with_custom_template_and_configuration/x_2/y_50.5\n",
      "DEBUG example_with_custom_template_and_configuration\n",
      "DEBUG /afs/cern.ch/work/c/cdroin/private/study-DA/tests/generate_and_submit/dummy_custom_template/example_with_custom_template_and_configuration/x_2/y_100.0\n"
     ]
    }
   ],
   "source": [
    "#study_sub.submit()\n",
    "study_sub.keep_submit_until_done(wait_time = 1/10)"
   ]
  },
  {
   "cell_type": "code",
   "execution_count": null,
   "metadata": {},
   "outputs": [],
   "source": []
  },
  {
   "cell_type": "code",
   "execution_count": null,
   "metadata": {},
   "outputs": [],
   "source": []
  },
  {
   "cell_type": "code",
   "execution_count": null,
   "metadata": {},
   "outputs": [],
   "source": []
  }
 ],
 "metadata": {
  "kernelspec": {
   "display_name": ".venv",
   "language": "python",
   "name": "python3"
  },
  "language_info": {
   "codemirror_mode": {
    "name": "ipython",
    "version": 3
   },
   "file_extension": ".py",
   "mimetype": "text/x-python",
   "name": "python",
   "nbconvert_exporter": "python",
   "pygments_lexer": "ipython3",
   "version": "3.11.7"
  }
 },
 "nbformat": 4,
 "nbformat_minor": 2
}
