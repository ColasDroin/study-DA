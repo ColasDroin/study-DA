{
 "cells": [
  {
   "cell_type": "code",
   "execution_count": 1,
   "metadata": {},
   "outputs": [],
   "source": [
    "from study_da import SubmitScan"
   ]
  },
  {
   "cell_type": "code",
   "execution_count": 2,
   "metadata": {},
   "outputs": [],
   "source": [
    "study_sub = SubmitScan(\n",
    "    path_tree=\"example_dummy_stress/tree.yaml\",\n",
    "    path_python_environment=\"/afs/cern.ch/work/c/cdroin/private/study-DA/.venv\",\n",
    ")"
   ]
  },
  {
   "cell_type": "code",
   "execution_count": 3,
   "metadata": {},
   "outputs": [],
   "source": [
    "\n",
    "#study_sub.configure_jobs(dic_config_jobs = dic_config_jobs, force_configure = True)\n",
    "study_sub.configure_jobs( force_configure = True)"
   ]
  },
  {
   "cell_type": "code",
   "execution_count": 4,
   "metadata": {},
   "outputs": [
    {
     "name": "stderr",
     "output_type": "stream",
     "text": [
      "WARNING:root:Run file already exists for job example_dummy_stress/x_1.0/generation_1.py. Skipping.\n",
      "WARNING:root:Run file already exists for job example_dummy_stress/x_250.75/generation_1.py. Skipping.\n",
      "WARNING:root:Run file already exists for job example_dummy_stress/x_500.5/generation_1.py. Skipping.\n",
      "WARNING:root:Run file already exists for job example_dummy_stress/x_750.25/generation_1.py. Skipping.\n",
      "WARNING:root:Run file already exists for job example_dummy_stress/x_1000.0/generation_1.py. Skipping.\n",
      "WARNING:root:Run file already exists for job example_dummy_stress/x_250.75/generation_1.py. Skipping.\n",
      "WARNING:root:Run file already exists for job example_dummy_stress/x_500.5/generation_1.py. Skipping.\n",
      "WARNING:root:Run file already exists for job example_dummy_stress/x_1000.0/generation_1.py. Skipping.\n",
      "WARNING:root:Run file already exists for job example_dummy_stress/x_1.0/y_1.0/generation_2.py. Skipping.\n",
      "WARNING:root:Run file already exists for job example_dummy_stress/x_1.0/y_2.0/generation_2.py. Skipping.\n",
      "WARNING:root:Run file already exists for job example_dummy_stress/x_1.0/y_3.0/generation_2.py. Skipping.\n",
      "WARNING:root:Run file already exists for job example_dummy_stress/x_1.0/y_4.0/generation_2.py. Skipping.\n",
      "WARNING:root:Run file already exists for job example_dummy_stress/x_1.0/y_5.0/generation_2.py. Skipping.\n",
      "WARNING:root:Run file already exists for job example_dummy_stress/x_750.25/y_1.0/generation_2.py. Skipping.\n",
      "WARNING:root:Run file already exists for job example_dummy_stress/x_750.25/y_2.0/generation_2.py. Skipping.\n",
      "WARNING:root:Run file already exists for job example_dummy_stress/x_750.25/y_3.0/generation_2.py. Skipping.\n",
      "WARNING:root:Run file already exists for job example_dummy_stress/x_750.25/y_4.0/generation_2.py. Skipping.\n",
      "WARNING:root:Run file already exists for job example_dummy_stress/x_750.25/y_5.0/generation_2.py. Skipping.\n",
      "WARNING:root:Run file already exists for job example_dummy_stress/x_250.75/generation_1.py. Skipping.\n",
      "WARNING:root:Run file already exists for job example_dummy_stress/x_500.5/generation_1.py. Skipping.\n",
      "WARNING:root:Run file already exists for job example_dummy_stress/x_1000.0/generation_1.py. Skipping.\n",
      "WARNING:root:Run file already exists for job example_dummy_stress/x_1.0/y_4.0/generation_2.py. Skipping.\n",
      "WARNING:root:Run file already exists for job example_dummy_stress/x_1.0/y_5.0/generation_2.py. Skipping.\n",
      "WARNING:root:Run file already exists for job example_dummy_stress/x_750.25/y_1.0/generation_2.py. Skipping.\n",
      "WARNING:root:Run file already exists for job example_dummy_stress/x_750.25/y_2.0/generation_2.py. Skipping.\n",
      "WARNING:root:Run file already exists for job example_dummy_stress/x_750.25/y_3.0/generation_2.py. Skipping.\n"
     ]
    },
    {
     "ename": "KeyError",
     "evalue": "'status'",
     "output_type": "error",
     "traceback": [
      "\u001b[0;31m---------------------------------------------------------------------------\u001b[0m",
      "\u001b[0;31mKeyError\u001b[0m                                  Traceback (most recent call last)",
      "Cell \u001b[0;32mIn[4], line 2\u001b[0m\n\u001b[1;32m      1\u001b[0m \u001b[38;5;66;03m#study_sub.submit()\u001b[39;00m\n\u001b[0;32m----> 2\u001b[0m \u001b[43mstudy_sub\u001b[49m\u001b[38;5;241;43m.\u001b[39;49m\u001b[43mkeep_submit_until_done\u001b[49m\u001b[43m(\u001b[49m\u001b[43mwait_time\u001b[49m\u001b[43m \u001b[49m\u001b[38;5;241;43m=\u001b[39;49m\u001b[43m \u001b[49m\u001b[38;5;241;43m1\u001b[39;49m\u001b[38;5;241;43m/\u001b[39;49m\u001b[38;5;241;43m20\u001b[39;49m\u001b[43m)\u001b[49m\n",
      "File \u001b[0;32m/afs/cern.ch/work/c/cdroin/private/study-DA/study_da/submit/submit_scan.py:382\u001b[0m, in \u001b[0;36mSubmitScan.keep_submit_until_done\u001b[0;34m(self, one_generation_at_a_time, dic_additional_commands_per_gen, dic_dependencies_per_gen, name_config, wait_time)\u001b[0m\n\u001b[1;32m    378\u001b[0m     wait_time \u001b[38;5;241m=\u001b[39m \u001b[38;5;241m10\u001b[39m \u001b[38;5;241m/\u001b[39m \u001b[38;5;241m60\u001b[39m\n\u001b[1;32m    380\u001b[0m \u001b[38;5;66;03m# I don't need to lock the tree here since the status cheking is read only and\u001b[39;00m\n\u001b[1;32m    381\u001b[0m \u001b[38;5;66;03m# the lock is acquired in the submit method for the submission\u001b[39;00m\n\u001b[0;32m--> 382\u001b[0m \u001b[38;5;28;01mwhile\u001b[39;00m \u001b[38;5;28;43mself\u001b[39;49m\u001b[38;5;241;43m.\u001b[39;49m\u001b[43mdic_tree\u001b[49m\u001b[43m[\u001b[49m\u001b[38;5;124;43m\"\u001b[39;49m\u001b[38;5;124;43mstatus\u001b[39;49m\u001b[38;5;124;43m\"\u001b[39;49m\u001b[43m]\u001b[49m \u001b[38;5;241m!=\u001b[39m \u001b[38;5;124m\"\u001b[39m\u001b[38;5;124mfinished\u001b[39m\u001b[38;5;124m\"\u001b[39m:\n\u001b[1;32m    383\u001b[0m     \u001b[38;5;28mself\u001b[39m\u001b[38;5;241m.\u001b[39msubmit(\n\u001b[1;32m    384\u001b[0m         one_generation_at_a_time,\n\u001b[1;32m    385\u001b[0m         dic_additional_commands_per_gen,\n\u001b[1;32m    386\u001b[0m         dic_dependencies_per_gen,\n\u001b[1;32m    387\u001b[0m         name_config,\n\u001b[1;32m    388\u001b[0m     )\n\u001b[1;32m    389\u001b[0m     \u001b[38;5;66;03m# Wait for a certain amount of time before checking again\u001b[39;00m\n",
      "File \u001b[0;32m/afs/cern.ch/work/c/cdroin/private/study-DA/.venv/lib/python3.11/site-packages/ruamel/yaml/comments.py:853\u001b[0m, in \u001b[0;36mCommentedMap.__getitem__\u001b[0;34m(self, key)\u001b[0m\n\u001b[1;32m    851\u001b[0m \u001b[38;5;28;01mdef\u001b[39;00m \u001b[38;5;21m__getitem__\u001b[39m(\u001b[38;5;28mself\u001b[39m, key: Any) \u001b[38;5;241m-\u001b[39m\u001b[38;5;241m>\u001b[39m Any:\n\u001b[1;32m    852\u001b[0m     \u001b[38;5;28;01mtry\u001b[39;00m:\n\u001b[0;32m--> 853\u001b[0m         \u001b[38;5;28;01mreturn\u001b[39;00m \u001b[43mordereddict\u001b[49m\u001b[38;5;241;43m.\u001b[39;49m\u001b[38;5;21;43m__getitem__\u001b[39;49m\u001b[43m(\u001b[49m\u001b[38;5;28;43mself\u001b[39;49m\u001b[43m,\u001b[49m\u001b[43m \u001b[49m\u001b[43mkey\u001b[49m\u001b[43m)\u001b[49m\n\u001b[1;32m    854\u001b[0m     \u001b[38;5;28;01mexcept\u001b[39;00m \u001b[38;5;167;01mKeyError\u001b[39;00m:\n\u001b[1;32m    855\u001b[0m         \u001b[38;5;28;01mfor\u001b[39;00m merged \u001b[38;5;129;01min\u001b[39;00m \u001b[38;5;28mgetattr\u001b[39m(\u001b[38;5;28mself\u001b[39m, merge_attrib, []):\n",
      "\u001b[0;31mKeyError\u001b[0m: 'status'"
     ]
    }
   ],
   "source": [
    "#study_sub.submit()\n",
    "study_sub.keep_submit_until_done(wait_time = 1/20)"
   ]
  },
  {
   "cell_type": "code",
   "execution_count": null,
   "metadata": {},
   "outputs": [],
   "source": []
  },
  {
   "cell_type": "code",
   "execution_count": null,
   "metadata": {},
   "outputs": [],
   "source": []
  },
  {
   "cell_type": "code",
   "execution_count": null,
   "metadata": {},
   "outputs": [],
   "source": []
  }
 ],
 "metadata": {
  "kernelspec": {
   "display_name": ".venv",
   "language": "python",
   "name": "python3"
  },
  "language_info": {
   "codemirror_mode": {
    "name": "ipython",
    "version": 3
   },
   "file_extension": ".py",
   "mimetype": "text/x-python",
   "name": "python",
   "nbconvert_exporter": "python",
   "pygments_lexer": "ipython3",
   "version": "3.11.7"
  }
 },
 "nbformat": 4,
 "nbformat_minor": 2
}
