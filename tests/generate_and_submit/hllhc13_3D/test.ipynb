{
 "cells": [
  {
   "cell_type": "code",
   "execution_count": 1,
   "metadata": {},
   "outputs": [
    {
     "name": "stderr",
     "output_type": "stream",
     "text": [
      "WARNING:root:Output file not overwritten\n"
     ]
    }
   ],
   "source": [
    "# ==================================================================================================\n",
    "# --- Imports\n",
    "# ==================================================================================================\n",
    "from study_da.plot import get_title_from_configuration, plot_3D\n",
    "from study_da.postprocess import aggregate_output_data\n",
    "import pandas as pd\n",
    "\n",
    "# ==================================================================================================\n",
    "# --- Postprocess the study\n",
    "# ==================================================================================================\n",
    "\n",
    "df_final = aggregate_output_data(\n",
    "    \"example_3D_scan/tree.yaml\",\n",
    "    l_group_by_parameters=[\"qx_b1\", \"qy_b1\", \"i_oct_b1\", \"i_oct_b2\", \"nemitt_x\", \"nemitt_y\"],\n",
    "    generation_of_interest=2,\n",
    "    name_output=\"output_particles.parquet\",\n",
    "    write_output=True,\n",
    "    only_keep_lost_particles=True,\n",
    ")\n",
    "\n",
    "# ==================================================================================================\n",
    "# --- Plot\n",
    "# ==================================================================================================\n",
    "\n",
    "\n",
    "# plot_3D(\n",
    "#     df_final,\n",
    "#     \"qx_b1\",\n",
    "#     \"i_oct_b1\",\n",
    "#     \"nemitt_x\",\n",
    "#     \"normalized amplitude in xy-plane\",\n",
    "#     xlabel=r\"$Q_x$\" + \"with \" + r\"$Q_y = Q_x -2 + 0.005$\",\n",
    "#     ylabel=\"Octupole intensity [A]\",\n",
    "#     z_label=r\"Normalized emittance [$\\mu$m]\",\n",
    "#     title=title,\n",
    "#     vmin=4,\n",
    "#     vmax=6,\n",
    "#     output_path=\"output.png\",\n",
    "#     output_path_html=\"output.html\",\n",
    "#     display_plot=False,\n",
    "# )\n"
   ]
  },
  {
   "cell_type": "code",
   "execution_count": 2,
   "metadata": {},
   "outputs": [
    {
     "name": "stderr",
     "output_type": "stream",
     "text": [
      "/tmp/ipykernel_818239/4259091016.py:10: FutureWarning: The default of observed=False is deprecated and will be changed to True in a future version of pandas. Pass observed=False to retain current behavior or observed=True to adopt the future default and silence this warning.\n",
      "  df_final[\"normalized amplitude in xy-plane\"] = df_final.groupby(\n"
     ]
    }
   ],
   "source": [
    "df_final = df_final[[\"qx_b1\", \"i_oct_b1\", \"nemitt_x\", \"normalized amplitude in xy-plane\"]]\n",
    "df_final = df_final.drop_duplicates()\n",
    "df_final = df_final.set_index([\"qx_b1\", \"i_oct_b1\", \"nemitt_x\"])\n",
    "idx = pd.MultiIndex.from_product(\n",
    "    [df_final.index.levels[0], df_final.index.levels[1], df_final.index.levels[2]]\n",
    ")\n",
    "df_final = df_final.reindex(idx, fill_value=None).reset_index()\n",
    "\n",
    "# Interpolate missing values in df_final for the column \"normalized amplitude in xy-plane\"\n",
    "df_final[\"normalized amplitude in xy-plane\"] = df_final.groupby(\n",
    "    [\"qx_b1\", \"i_oct_b1\"]\n",
    ")[\"normalized amplitude in xy-plane\"].transform(\n",
    "    lambda x: x.interpolate(method=\"linear\", limit_direction=\"both\")\n",
    ")\n",
    "\n",
    "# Fill remaining missing values with 8\n",
    "df_final[\"normalized amplitude in xy-plane\"] = df_final[\"normalized amplitude in xy-plane\"].fillna(8)"
   ]
  },
  {
   "cell_type": "code",
   "execution_count": 3,
   "metadata": {},
   "outputs": [],
   "source": [
    "fig = plot_3D(\n",
    "    df_final,\n",
    "    \"qx_b1\",\n",
    "    \"i_oct_b1\",\n",
    "    \"nemitt_x\",\n",
    "    \"normalized amplitude in xy-plane\",\n",
    "    xlabel=r'Qx',\n",
    "    ylabel=r\"I [A]\",\n",
    "    z_label=r\"Normalized emittance [μm]\",\n",
    "    vmin=4,\n",
    "    vmax=8,\n",
    "    output_path=\"output.png\",\n",
    "    output_path_html=\"output.html\",\n",
    "    display_plot=False,\n",
    ")\n",
    "fig.show(renderer=\"browser\")\n"
   ]
  },
  {
   "cell_type": "code",
   "execution_count": null,
   "metadata": {},
   "outputs": [],
   "source": []
  }
 ],
 "metadata": {
  "kernelspec": {
   "display_name": ".venv",
   "language": "python",
   "name": "python3"
  },
  "language_info": {
   "codemirror_mode": {
    "name": "ipython",
    "version": 3
   },
   "file_extension": ".py",
   "mimetype": "text/x-python",
   "name": "python",
   "nbconvert_exporter": "python",
   "pygments_lexer": "ipython3",
   "version": "3.11.7"
  }
 },
 "nbformat": 4,
 "nbformat_minor": 2
}
