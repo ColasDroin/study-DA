{
 "cells": [
  {
   "cell_type": "code",
   "execution_count": 1,
   "metadata": {},
   "outputs": [],
   "source": [
    "from study_da import SubmitScan"
   ]
  },
  {
   "cell_type": "code",
   "execution_count": 2,
   "metadata": {},
   "outputs": [],
   "source": [
    "study_sub = SubmitScan(\n",
    "    path_tree = \"example_tune_scan/tree.yaml\",\n",
    "    path_python_environment=\"/home/cdroin/study-DA/.venv\",\n",
    "    path_container_image=\"/cvmfs/unpacked.cern.ch/gitlab-registry.cern.ch/cdroin/da-study-docker:6eb787ea\",\n",
    ")"
   ]
  },
  {
   "cell_type": "code",
   "execution_count": 3,
   "metadata": {},
   "outputs": [
    {
     "name": "stdout",
     "output_type": "stream",
     "text": [
      "Found job at depth 1: example_tune_scan/n_angles_5/generation_1.py\n",
      "Found job at depth 2: example_tune_scan/n_angles_5/particle_file_00_qx_62.31_qy_60.32/generation_2.py\n"
     ]
    }
   ],
   "source": [
    "study_sub.configure_jobs()"
   ]
  },
  {
   "cell_type": "code",
   "execution_count": 4,
   "metadata": {},
   "outputs": [],
   "source": [
    "# Additional commands to be executed at the end of the run file (generation-specific)\n",
    "dic_additional_commands_per_gen = {\n",
    "    1: \"rm -rf final_* modules optics_repository optics_toolkit tools tracking_tools temp\"\n",
    "    \" mad_collider.log __pycache__ twiss* errors fc* optics_orbit_at*\",\n",
    "    2: \"\"\n",
    "}\n",
    "\n",
    "# Dependencies for the executable of each generation. Only needed if one uses HTC or Slurm.\n",
    "dic_dependencies_per_gen = {1: [], 2: [\"collider_file\", \"particle_file\"]}\n",
    "name_config = \"config_hllhc16.yaml\""
   ]
  },
  {
   "cell_type": "code",
   "execution_count": 5,
   "metadata": {},
   "outputs": [],
   "source": [
    "study_sub.generate_run_files()"
   ]
  },
  {
   "cell_type": "code",
   "execution_count": 6,
   "metadata": {},
   "outputs": [
    {
     "name": "stdout",
     "output_type": "stream",
     "text": [
      "Writing submission command for node \"/home/cdroin/study-DA/tests/submit/test_hllhc16_tunescan/example_tune_scan/n_angles_5/\"\n",
      "Writing submission command for node \"/home/cdroin/study-DA/tests/submit/test_hllhc16_tunescan/example_tune_scan/n_angles_6/\"\n",
      "Jobs status after submission:\n",
      "Running: \n",
      "example_tune_scan/n_angles_5/\n",
      "example_tune_scan/n_angles_6/\n",
      "queuing: \n",
      "\n"
     ]
    }
   ],
   "source": [
    "study_sub.submit()\n",
    "#study_sub.keep_submit_until_done(wait_time = 30)"
   ]
  },
  {
   "cell_type": "code",
   "execution_count": null,
   "metadata": {},
   "outputs": [],
   "source": []
  },
  {
   "cell_type": "code",
   "execution_count": null,
   "metadata": {},
   "outputs": [],
   "source": []
  },
  {
   "cell_type": "code",
   "execution_count": null,
   "metadata": {},
   "outputs": [],
   "source": []
  }
 ],
 "metadata": {
  "kernelspec": {
   "display_name": ".venv",
   "language": "python",
   "name": "python3"
  },
  "language_info": {
   "codemirror_mode": {
    "name": "ipython",
    "version": 3
   },
   "file_extension": ".py",
   "mimetype": "text/x-python",
   "name": "python",
   "nbconvert_exporter": "python",
   "pygments_lexer": "ipython3",
   "version": "3.11.6"
  }
 },
 "nbformat": 4,
 "nbformat_minor": 2
}
