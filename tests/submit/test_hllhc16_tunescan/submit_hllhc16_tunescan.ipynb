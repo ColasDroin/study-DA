{
 "cells": [
  {
   "cell_type": "code",
   "execution_count": 1,
   "metadata": {},
   "outputs": [],
   "source": [
    "from study_da import SubmitScan\n",
    "from study_da.utils.configuration import load_dic_from_path, write_dic_to_path\n"
   ]
  },
  {
   "cell_type": "code",
   "execution_count": 2,
   "metadata": {},
   "outputs": [],
   "source": [
    "# Mutate config to have proper path since study was moved\n",
    "# Load the configuration from hllhc16\n",
    "config, ryaml = load_dic_from_path(\n",
    "    \"example_tune_scan/config_hllhc16.yaml\"\n",
    ")\n",
    "\n",
    "# Adapt the number of turns\n",
    "config[\"config_mad\"][\"links\"][\"acc-models-lhc\"] = \"../../../../../external_dependencies/acc-models-lhc\"\n",
    "\n",
    "# Drop the configuration locally\n",
    "write_dic_to_path(config, \"example_tune_scan/config_hllhc16.yaml\", ryaml)"
   ]
  },
  {
   "cell_type": "code",
   "execution_count": 3,
   "metadata": {},
   "outputs": [],
   "source": [
    "study_sub = SubmitScan(\n",
    "    path_tree = \"example_tune_scan/tree.yaml\",\n",
    "    path_python_environment=\"/home/cdroin/study-DA/.venv\",\n",
    "    path_python_environment_container = \"/usr/local/DA_study/miniforge_docker\",\n",
    "    path_container_image=\"/cvmfs/unpacked.cern.ch/gitlab-registry.cern.ch/cdroin/da-study-docker:ec4ae177\",\n",
    ")"
   ]
  },
  {
   "cell_type": "code",
   "execution_count": 4,
   "metadata": {},
   "outputs": [],
   "source": [
    "study_sub.configure_jobs()"
   ]
  },
  {
   "cell_type": "code",
   "execution_count": 5,
   "metadata": {},
   "outputs": [],
   "source": [
    "# Additional commands to be executed at the end of the run file (generation-specific)\n",
    "dic_additional_commands_per_gen = {\n",
    "    1: \"rm -rf final_* modules optics_repository optics_toolkit tools tracking_tools temp\"\n",
    "    \" mad_collider.log __pycache__ twiss* errors fc* optics_orbit_at*\",\n",
    "    2: \"\"\n",
    "}\n",
    "\n",
    "# Dependencies for the executable of each generation. Only needed if one uses HTC or Slurm.\n",
    "dic_dependencies_per_gen = {1: [\"acc-models-lhc\"], 2: [\"collider_file\", \"particle_file\"]}\n",
    "name_config = \"config_hllhc16.yaml\""
   ]
  },
  {
   "cell_type": "code",
   "execution_count": 6,
   "metadata": {},
   "outputs": [
    {
     "name": "stdout",
     "output_type": "stream",
     "text": [
      "Warning, some jobs are queuing/running and the id-job file is missing... Ignoring them.\n",
      "Warning, some jobs are queuing/running and the id-job file is missing... Ignoring them.\n",
      "Writing submission command for node \"/afs/cern.ch/work/c/cdroin/private/study-DA/tests/submit/test_hllhc16_tunescan/example_tune_scan/n_angles_5/\"\n"
     ]
    },
    {
     "ename": "RuntimeError",
     "evalue": "Error in submission: Submitting job(s)",
     "output_type": "error",
     "traceback": [
      "\u001b[0;31m---------------------------------------------------------------------------\u001b[0m",
      "\u001b[0;31mRuntimeError\u001b[0m                              Traceback (most recent call last)",
      "Cell \u001b[0;32mIn[6], line 1\u001b[0m\n\u001b[0;32m----> 1\u001b[0m \u001b[43mstudy_sub\u001b[49m\u001b[38;5;241;43m.\u001b[39;49m\u001b[43msubmit\u001b[49m\u001b[43m(\u001b[49m\n\u001b[1;32m      2\u001b[0m \u001b[43m    \u001b[49m\u001b[43mone_generation_at_a_time\u001b[49m\u001b[38;5;241;43m=\u001b[39;49m\u001b[38;5;28;43;01mFalse\u001b[39;49;00m\u001b[43m,\u001b[49m\n\u001b[1;32m      3\u001b[0m \u001b[43m    \u001b[49m\u001b[43mdic_additional_commands_per_gen\u001b[49m\u001b[38;5;241;43m=\u001b[39;49m\u001b[43mdic_additional_commands_per_gen\u001b[49m\u001b[43m,\u001b[49m\n\u001b[1;32m      4\u001b[0m \u001b[43m    \u001b[49m\u001b[43mdic_dependencies_per_gen\u001b[49m\u001b[38;5;241;43m=\u001b[39;49m\u001b[43mdic_dependencies_per_gen\u001b[49m\u001b[43m,\u001b[49m\n\u001b[1;32m      5\u001b[0m \u001b[43m    \u001b[49m\u001b[43mname_config\u001b[49m\u001b[38;5;241;43m=\u001b[39;49m\u001b[43mname_config\u001b[49m\u001b[43m,\u001b[49m\n\u001b[1;32m      6\u001b[0m \u001b[43m)\u001b[49m\n\u001b[1;32m      7\u001b[0m \u001b[38;5;66;03m# study_sub.keep_submit_until_done(wait_time = 1)\u001b[39;00m\n",
      "File \u001b[0;32m/afs/cern.ch/work/c/cdroin/private/study-DA/study_da/submit/submit_scan.py:222\u001b[0m, in \u001b[0;36mSubmitScan.submit\u001b[0;34m(self, one_generation_at_a_time, dic_additional_commands_per_gen, dic_dependencies_per_gen, name_config)\u001b[0m\n\u001b[1;32m    217\u001b[0m dic_submission_files \u001b[38;5;241m=\u001b[39m cluster_submission\u001b[38;5;241m.\u001b[39mwrite_sub_files()\n\u001b[1;32m    218\u001b[0m \u001b[38;5;28;01mfor\u001b[39;00m submission_type, (\n\u001b[1;32m    219\u001b[0m     list_of_jobs,\n\u001b[1;32m    220\u001b[0m     l_submission_filenames,\n\u001b[1;32m    221\u001b[0m ) \u001b[38;5;129;01min\u001b[39;00m dic_submission_files\u001b[38;5;241m.\u001b[39mitems():\n\u001b[0;32m--> 222\u001b[0m     \u001b[43mcluster_submission\u001b[49m\u001b[38;5;241;43m.\u001b[39;49m\u001b[43msubmit\u001b[49m\u001b[43m(\u001b[49m\u001b[43mlist_of_jobs\u001b[49m\u001b[43m,\u001b[49m\u001b[43m \u001b[49m\u001b[43ml_submission_filenames\u001b[49m\u001b[43m,\u001b[49m\u001b[43m \u001b[49m\u001b[43msubmission_type\u001b[49m\u001b[43m)\u001b[49m\n\u001b[1;32m    224\u001b[0m \u001b[38;5;66;03m# Update dic_tree from cluster_submission\u001b[39;00m\n\u001b[1;32m    225\u001b[0m \u001b[38;5;28mself\u001b[39m\u001b[38;5;241m.\u001b[39mdic_tree \u001b[38;5;241m=\u001b[39m cluster_submission\u001b[38;5;241m.\u001b[39mdic_tree\n",
      "File \u001b[0;32m/afs/cern.ch/work/c/cdroin/private/study-DA/study_da/submit/cluster_submission/cluster_submission.py:395\u001b[0m, in \u001b[0;36mClusterSubmission.submit\u001b[0;34m(self, list_of_jobs, l_submission_filenames, submission_type)\u001b[0m\n\u001b[1;32m    391\u001b[0m \u001b[38;5;28;01melif\u001b[39;00m submission_type \u001b[38;5;129;01min\u001b[39;00m [\u001b[38;5;124m\"\u001b[39m\u001b[38;5;124mhtc\u001b[39m\u001b[38;5;124m\"\u001b[39m, \u001b[38;5;124m\"\u001b[39m\u001b[38;5;124mslurm\u001b[39m\u001b[38;5;124m\"\u001b[39m, \u001b[38;5;124m\"\u001b[39m\u001b[38;5;124mhtc_docker\u001b[39m\u001b[38;5;124m\"\u001b[39m, \u001b[38;5;124m\"\u001b[39m\u001b[38;5;124mslurm_docker\u001b[39m\u001b[38;5;124m\"\u001b[39m]:\n\u001b[1;32m    392\u001b[0m     submit_command \u001b[38;5;241m=\u001b[39m \u001b[38;5;28mself\u001b[39m\u001b[38;5;241m.\u001b[39mdic_submission[submission_type]\u001b[38;5;241m.\u001b[39mget_submit_command(\n\u001b[1;32m    393\u001b[0m         sub_filename\n\u001b[1;32m    394\u001b[0m     )\n\u001b[0;32m--> 395\u001b[0m     dic_id_to_path_job_temp, idx_submission \u001b[38;5;241m=\u001b[39m \u001b[38;5;28;43mself\u001b[39;49m\u001b[38;5;241;43m.\u001b[39;49m\u001b[43m_update_job_status_from_hpc_output\u001b[49m\u001b[43m(\u001b[49m\n\u001b[1;32m    396\u001b[0m \u001b[43m        \u001b[49m\u001b[43msubmit_command\u001b[49m\u001b[43m,\u001b[49m\n\u001b[1;32m    397\u001b[0m \u001b[43m        \u001b[49m\u001b[43msubmission_type\u001b[49m\u001b[43m,\u001b[49m\n\u001b[1;32m    398\u001b[0m \u001b[43m        \u001b[49m\u001b[43mdic_id_to_path_job_temp\u001b[49m\u001b[43m,\u001b[49m\n\u001b[1;32m    399\u001b[0m \u001b[43m        \u001b[49m\u001b[43mlist_of_jobs\u001b[49m\u001b[43m,\u001b[49m\n\u001b[1;32m    400\u001b[0m \u001b[43m        \u001b[49m\u001b[43midx_submission\u001b[49m\u001b[43m,\u001b[49m\n\u001b[1;32m    401\u001b[0m \u001b[43m    \u001b[49m\u001b[43m)\u001b[49m\n\u001b[1;32m    402\u001b[0m \u001b[38;5;28;01melse\u001b[39;00m:\n\u001b[1;32m    403\u001b[0m     \u001b[38;5;28;01mraise\u001b[39;00m \u001b[38;5;167;01mValueError\u001b[39;00m(\u001b[38;5;124mf\u001b[39m\u001b[38;5;124m\"\u001b[39m\u001b[38;5;124mError: \u001b[39m\u001b[38;5;132;01m{\u001b[39;00msubmission_type\u001b[38;5;132;01m}\u001b[39;00m\u001b[38;5;124m is not a valid submission mode\u001b[39m\u001b[38;5;124m\"\u001b[39m)\n",
      "File \u001b[0;32m/afs/cern.ch/work/c/cdroin/private/study-DA/study_da/submit/cluster_submission/cluster_submission.py:354\u001b[0m, in \u001b[0;36mClusterSubmission._update_job_status_from_hpc_output\u001b[0;34m(self, submit_command, submission_type, dic_id_to_path_job_temp, list_of_jobs, idx_submission)\u001b[0m\n\u001b[1;32m    352\u001b[0m output_error \u001b[38;5;241m=\u001b[39m process\u001b[38;5;241m.\u001b[39mstderr\u001b[38;5;241m.\u001b[39mdecode(\u001b[38;5;124m\"\u001b[39m\u001b[38;5;124mutf-8\u001b[39m\u001b[38;5;124m\"\u001b[39m)\n\u001b[1;32m    353\u001b[0m \u001b[38;5;28;01mif\u001b[39;00m \u001b[38;5;124m\"\u001b[39m\u001b[38;5;124mERROR\u001b[39m\u001b[38;5;124m\"\u001b[39m \u001b[38;5;129;01min\u001b[39;00m output_error:\n\u001b[0;32m--> 354\u001b[0m     \u001b[38;5;28;01mraise\u001b[39;00m \u001b[38;5;167;01mRuntimeError\u001b[39;00m(\u001b[38;5;124mf\u001b[39m\u001b[38;5;124m\"\u001b[39m\u001b[38;5;124mError in submission: \u001b[39m\u001b[38;5;132;01m{\u001b[39;00moutput\u001b[38;5;132;01m}\u001b[39;00m\u001b[38;5;124m\"\u001b[39m)\n\u001b[1;32m    355\u001b[0m \u001b[38;5;28;01mfor\u001b[39;00m line \u001b[38;5;129;01min\u001b[39;00m output\u001b[38;5;241m.\u001b[39msplit(\u001b[38;5;124m\"\u001b[39m\u001b[38;5;130;01m\\n\u001b[39;00m\u001b[38;5;124m\"\u001b[39m):\n\u001b[1;32m    356\u001b[0m     \u001b[38;5;28;01mif\u001b[39;00m \u001b[38;5;124m\"\u001b[39m\u001b[38;5;124mhtc\u001b[39m\u001b[38;5;124m\"\u001b[39m \u001b[38;5;129;01min\u001b[39;00m submission_type:\n",
      "\u001b[0;31mRuntimeError\u001b[0m: Error in submission: Submitting job(s)"
     ]
    }
   ],
   "source": [
    "study_sub.submit(\n",
    "    one_generation_at_a_time=False,\n",
    "    dic_additional_commands_per_gen=dic_additional_commands_per_gen,\n",
    "    dic_dependencies_per_gen=dic_dependencies_per_gen,\n",
    "    name_config=name_config,\n",
    ")\n",
    "# study_sub.keep_submit_until_done(wait_time = 1)"
   ]
  },
  {
   "cell_type": "code",
   "execution_count": null,
   "metadata": {},
   "outputs": [],
   "source": []
  },
  {
   "cell_type": "code",
   "execution_count": null,
   "metadata": {},
   "outputs": [],
   "source": []
  },
  {
   "cell_type": "code",
   "execution_count": null,
   "metadata": {},
   "outputs": [],
   "source": []
  }
 ],
 "metadata": {
  "kernelspec": {
   "display_name": ".venv",
   "language": "python",
   "name": "python3"
  },
  "language_info": {
   "codemirror_mode": {
    "name": "ipython",
    "version": 3
   },
   "file_extension": ".py",
   "mimetype": "text/x-python",
   "name": "python",
   "nbconvert_exporter": "python",
   "pygments_lexer": "ipython3",
   "version": "3.11.7"
  }
 },
 "nbformat": 4,
 "nbformat_minor": 2
}
