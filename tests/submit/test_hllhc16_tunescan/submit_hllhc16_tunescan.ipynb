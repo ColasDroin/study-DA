{
 "cells": [
  {
   "cell_type": "code",
   "execution_count": 1,
   "metadata": {},
   "outputs": [],
   "source": [
    "from study_da import SubmitScan\n",
    "from study_da.utils.configuration import load_dic_from_path, write_dic_to_path"
   ]
  },
  {
   "cell_type": "code",
   "execution_count": 2,
   "metadata": {},
   "outputs": [],
   "source": [
    "# Mutate config to have proper path since study was moved\n",
    "# Load the configuration from hllhc16\n",
    "config, ryaml = load_dic_from_path(\"example_tune_scan/config_hllhc16.yaml\")\n",
    "\n",
    "# Adapt the path to the acc-models-lhc\n",
    "config[\"config_mad\"][\"links\"][\"acc-models-lhc\"] = (\n",
    "    \"../../../../../external_dependencies/acc-models-lhc\"\n",
    ")\n",
    "\n",
    "# Drop the configuration locally\n",
    "write_dic_to_path(config, \"example_tune_scan/config_hllhc16.yaml\", ryaml)"
   ]
  },
  {
   "cell_type": "code",
   "execution_count": 3,
   "metadata": {},
   "outputs": [],
   "source": [
    "study_sub = SubmitScan(\n",
    "    path_tree=\"example_tune_scan/tree.yaml\",\n",
    "    path_python_environment=\"/home/cdroin/study-DA/.venv\",\n",
    "    path_python_environment_container=\"/usr/local/DA_study/miniforge_docker\",\n",
    "    path_container_image=\"/cvmfs/unpacked.cern.ch/gitlab-registry.cern.ch/cdroin/da-study-docker:ba9941aa\",\n",
    ")"
   ]
  },
  {
   "cell_type": "code",
   "execution_count": 4,
   "metadata": {},
   "outputs": [
    {
     "name": "stdout",
     "output_type": "stream",
     "text": [
      "Found job at depth 1: example_tune_scan/n_angles_5/generation_1.py\n",
      "Found job at depth 2: example_tune_scan/n_angles_5/particle_file_00_qx_62.31_qy_60.32/generation_2.py\n"
     ]
    }
   ],
   "source": [
    "study_sub.configure_jobs(force_configure=False)"
   ]
  },
  {
   "cell_type": "code",
   "execution_count": 5,
   "metadata": {},
   "outputs": [],
   "source": [
    "### Additional commands to be executed at the end of the run file (generation-specific)\n",
    "\n",
    "# In case gen_1 is submitted to htc\n",
    "# dic_additional_commands_per_gen = {\n",
    "#     1: \"cp *.json *.zip $path_job \\n\"\n",
    "#     \"cp -r particles $path_job/particles \\n\",\n",
    "#     2: \"\",\n",
    "# }\n",
    "\n",
    "# In case gen_1 is submitted locally\n",
    "dic_additional_commands_per_gen = {\n",
    "    1: \"rm -rf final_* modules optics_repository optics_toolkit tools tracking_tools temp mad_collider.log __pycache__ twiss* errors fc* optics_orbit_at* \\n\",\n",
    "    2: \"\",\n",
    "}\n",
    "\n",
    "\n",
    "# Dependencies for the executable of each generation. Only needed if one uses HTC or Slurm.\n",
    "dic_dependencies_per_gen = {1: [\"acc-models-lhc\"], 2: [\"collider_file\", \"particle_folder\"]}\n",
    "name_config = \"config_hllhc16.yaml\""
   ]
  },
  {
   "cell_type": "code",
   "execution_count": 6,
   "metadata": {},
   "outputs": [
    {
     "name": "stdout",
     "output_type": "stream",
     "text": [
      "Writing submission command for node \"/afs/cern.ch/work/c/cdroin/private/study-DA/tests/submit/test_hllhc16_tunescan/example_tune_scan/n_angles_5/\"\n",
      "Jobs status after submission:\n",
      "Running: \n",
      "example_tune_scan/n_angles_5/\n",
      "queuing: \n",
      "\n"
     ]
    },
    {
     "name": "stderr",
     "output_type": "stream",
     "text": [
      "/afs/cern.ch/work/c/cdroin/private/study-DA/tests/submit/test_hllhc16_tunescan/example_tune_scan/n_angles_5/run.sh: line 2: /home/cdroin/study-DA/.venv/bin/activate: No such file or directory\n"
     ]
    }
   ],
   "source": [
    "study_sub.submit(\n",
    "    one_generation_at_a_time=False,\n",
    "    dic_additional_commands_per_gen=dic_additional_commands_per_gen,\n",
    "    dic_dependencies_per_gen=dic_dependencies_per_gen,\n",
    "    name_config=name_config,\n",
    ")\n",
    "# study_sub.keep_submit_until_done(wait_time = 1)"
   ]
  }
 ],
 "metadata": {
  "kernelspec": {
   "display_name": ".venv",
   "language": "python",
   "name": "python3"
  },
  "language_info": {
   "codemirror_mode": {
    "name": "ipython",
    "version": 3
   },
   "file_extension": ".py",
   "mimetype": "text/x-python",
   "name": "python",
   "nbconvert_exporter": "python",
   "pygments_lexer": "ipython3",
   "version": "3.11.7"
  }
 },
 "nbformat": 4,
 "nbformat_minor": 2
}
