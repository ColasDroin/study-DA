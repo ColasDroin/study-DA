{
 "cells": [
  {
   "cell_type": "code",
   "execution_count": 7,
   "metadata": {},
   "outputs": [],
   "source": [
    "from study_da import SubmitScan\n",
    "from study_da.utils.configuration import load_dic_from_path, write_dic_to_path\n"
   ]
  },
  {
   "cell_type": "code",
   "execution_count": 8,
   "metadata": {},
   "outputs": [],
   "source": [
    "# Mutate config to have proper path since study was moved\n",
    "# Load the configuration from hllhc16\n",
    "config, ryaml = load_dic_from_path(\n",
    "    \"example_tune_scan/config_hllhc16.yaml\"\n",
    ")\n",
    "\n",
    "# Adapt the number of turns\n",
    "config[\"config_mad\"][\"links\"][\"acc-models-lhc\"] = \"../../../../../external_dependencies/acc-models-lhc\"\n",
    "\n",
    "# Drop the configuration locally\n",
    "write_dic_to_path(config, \"example_tune_scan/config_hllhc16.yaml\", ryaml)"
   ]
  },
  {
   "cell_type": "code",
   "execution_count": 9,
   "metadata": {},
   "outputs": [],
   "source": [
    "study_sub = SubmitScan(\n",
    "    path_tree = \"example_tune_scan/tree.yaml\",\n",
    "    path_python_environment=\"/home/cdroin/study-DA/.venv\",\n",
    "    path_python_environment_container = \"/usr/local/DA_study/miniforge_docker\",\n",
    "    path_container_image=\"/cvmfs/unpacked.cern.ch/gitlab-registry.cern.ch/cdroin/da-study-docker:6eb787ea\",\n",
    ")"
   ]
  },
  {
   "cell_type": "code",
   "execution_count": 10,
   "metadata": {},
   "outputs": [],
   "source": [
    "study_sub.configure_jobs()"
   ]
  },
  {
   "cell_type": "code",
   "execution_count": 11,
   "metadata": {},
   "outputs": [],
   "source": [
    "# Additional commands to be executed at the end of the run file (generation-specific)\n",
    "dic_additional_commands_per_gen = {\n",
    "    1: \"rm -rf final_* modules optics_repository optics_toolkit tools tracking_tools temp\"\n",
    "    \" mad_collider.log __pycache__ twiss* errors fc* optics_orbit_at*\",\n",
    "    2: \"\"\n",
    "}\n",
    "\n",
    "# Dependencies for the executable of each generation. Only needed if one uses HTC or Slurm.\n",
    "dic_dependencies_per_gen = {1: [], 2: [\"collider_file\", \"particle_file\"]}\n",
    "name_config = \"config_hllhc16.yaml\""
   ]
  },
  {
   "cell_type": "code",
   "execution_count": 12,
   "metadata": {},
   "outputs": [
    {
     "ename": "FileNotFoundError",
     "evalue": "[Errno 2] No such file or directory: '/afs/cern.ch/work/c/cdroin/private/study-DA/tests/submit/test_hllhc16_tunescan/example_tune_scan/n_angles_5/config_hllhc16.yaml'",
     "output_type": "error",
     "traceback": [
      "\u001b[0;31m---------------------------------------------------------------------------\u001b[0m",
      "\u001b[0;31mFileNotFoundError\u001b[0m                         Traceback (most recent call last)",
      "Cell \u001b[0;32mIn[12], line 1\u001b[0m\n\u001b[0;32m----> 1\u001b[0m \u001b[43mstudy_sub\u001b[49m\u001b[38;5;241;43m.\u001b[39;49m\u001b[43mgenerate_run_files\u001b[49m\u001b[43m(\u001b[49m\u001b[43mdic_additional_commands_per_gen\u001b[49m\u001b[43m,\u001b[49m\u001b[43m \u001b[49m\u001b[43mdic_dependencies_per_gen\u001b[49m\u001b[43m,\u001b[49m\u001b[43m \u001b[49m\u001b[43mname_config\u001b[49m\u001b[43m)\u001b[49m\n",
      "File \u001b[0;32m/afs/cern.ch/work/c/cdroin/private/study-DA/study_da/submit/submit_scan.py:123\u001b[0m, in \u001b[0;36mSubmitScan.generate_run_files\u001b[0;34m(self, dic_additional_commands_per_gen, dic_dependencies_per_gen, name_config)\u001b[0m\n\u001b[1;32m    117\u001b[0m singularity \u001b[38;5;241m=\u001b[39m \u001b[38;5;124m\"\u001b[39m\u001b[38;5;124mdocker\u001b[39m\u001b[38;5;124m\"\u001b[39m \u001b[38;5;129;01min\u001b[39;00m submission_type\n\u001b[1;32m    118\u001b[0m path_python_environment \u001b[38;5;241m=\u001b[39m (\n\u001b[1;32m    119\u001b[0m     \u001b[38;5;28mself\u001b[39m\u001b[38;5;241m.\u001b[39mpath_python_environment_container\n\u001b[1;32m    120\u001b[0m     \u001b[38;5;28;01mif\u001b[39;00m singularity\n\u001b[1;32m    121\u001b[0m     \u001b[38;5;28;01melse\u001b[39;00m \u001b[38;5;28mself\u001b[39m\u001b[38;5;241m.\u001b[39mpath_python_environment\n\u001b[1;32m    122\u001b[0m )\n\u001b[0;32m--> 123\u001b[0m run_str \u001b[38;5;241m=\u001b[39m \u001b[43mgenerate_run_file\u001b[49m\u001b[43m(\u001b[49m\n\u001b[1;32m    124\u001b[0m \u001b[43m    \u001b[49m\u001b[43mabsolute_job_folder\u001b[49m\u001b[43m,\u001b[49m\n\u001b[1;32m    125\u001b[0m \u001b[43m    \u001b[49m\u001b[43mjob_name\u001b[49m\u001b[43m,\u001b[49m\n\u001b[1;32m    126\u001b[0m \u001b[43m    \u001b[49m\u001b[43mpath_python_environment\u001b[49m\u001b[43m,\u001b[49m\n\u001b[1;32m    127\u001b[0m \u001b[43m    \u001b[49m\u001b[43mgeneration_number\u001b[49m\u001b[43m,\u001b[49m\n\u001b[1;32m    128\u001b[0m \u001b[43m    \u001b[49m\u001b[38;5;28;43mself\u001b[39;49m\u001b[38;5;241;43m.\u001b[39;49m\u001b[43mabs_path_tree\u001b[49m\u001b[43m,\u001b[49m\n\u001b[1;32m    129\u001b[0m \u001b[43m    \u001b[49m\u001b[43ml_keys\u001b[49m\u001b[43m,\u001b[49m\n\u001b[1;32m    130\u001b[0m \u001b[43m    \u001b[49m\u001b[43mhtc\u001b[49m\u001b[38;5;241;43m=\u001b[39;49m\u001b[38;5;124;43m\"\u001b[39;49m\u001b[38;5;124;43mhtc\u001b[39;49m\u001b[38;5;124;43m\"\u001b[39;49m\u001b[43m \u001b[49m\u001b[38;5;129;43;01min\u001b[39;49;00m\u001b[43m \u001b[49m\u001b[43msubmission_type\u001b[49m\u001b[43m,\u001b[49m\n\u001b[1;32m    131\u001b[0m \u001b[43m    \u001b[49m\u001b[43madditionnal_command\u001b[49m\u001b[38;5;241;43m=\u001b[39;49m\u001b[43mdic_additional_commands_per_gen\u001b[49m\u001b[43m[\u001b[49m\u001b[43mgeneration_number\u001b[49m\u001b[43m]\u001b[49m\u001b[43m,\u001b[49m\n\u001b[1;32m    132\u001b[0m \u001b[43m    \u001b[49m\u001b[43ml_dependencies\u001b[49m\u001b[38;5;241;43m=\u001b[39;49m\u001b[43mdic_dependencies_per_gen\u001b[49m\u001b[43m[\u001b[49m\u001b[43mgeneration_number\u001b[49m\u001b[43m]\u001b[49m\u001b[43m,\u001b[49m\n\u001b[1;32m    133\u001b[0m \u001b[43m    \u001b[49m\u001b[43mname_config\u001b[49m\u001b[38;5;241;43m=\u001b[39;49m\u001b[43mname_config\u001b[49m\u001b[43m,\u001b[49m\n\u001b[1;32m    134\u001b[0m \u001b[43m\u001b[49m\u001b[43m)\u001b[49m\n\u001b[1;32m    135\u001b[0m \u001b[38;5;66;03m# Write the run file\u001b[39;00m\n\u001b[1;32m    136\u001b[0m path_run_job \u001b[38;5;241m=\u001b[39m \u001b[38;5;124mf\u001b[39m\u001b[38;5;124m\"\u001b[39m\u001b[38;5;132;01m{\u001b[39;00mabsolute_job_folder\u001b[38;5;132;01m}\u001b[39;00m\u001b[38;5;124m/run.sh\u001b[39m\u001b[38;5;124m\"\u001b[39m\n",
      "File \u001b[0;32m/afs/cern.ch/work/c/cdroin/private/study-DA/study_da/submit/generate_run.py:27\u001b[0m, in \u001b[0;36mgenerate_run_file\u001b[0;34m(job_folder, job_name, setup_env_script, generation_number, tree_path, l_keys, htc, additionnal_command, l_dependencies, name_config)\u001b[0m\n\u001b[1;32m     14\u001b[0m \u001b[38;5;28;01mdef\u001b[39;00m \u001b[38;5;21mgenerate_run_file\u001b[39m(\n\u001b[1;32m     15\u001b[0m     job_folder,\n\u001b[1;32m     16\u001b[0m     job_name,\n\u001b[0;32m   (...)\u001b[0m\n\u001b[1;32m     24\u001b[0m     name_config\u001b[38;5;241m=\u001b[39m\u001b[38;5;124m\"\u001b[39m\u001b[38;5;124mconfig.yaml\u001b[39m\u001b[38;5;124m\"\u001b[39m,\n\u001b[1;32m     25\u001b[0m ):\n\u001b[1;32m     26\u001b[0m     \u001b[38;5;28;01mif\u001b[39;00m htc:\n\u001b[0;32m---> 27\u001b[0m         file_str \u001b[38;5;241m=\u001b[39m \u001b[43m_generate_run_file_htc\u001b[49m\u001b[43m(\u001b[49m\n\u001b[1;32m     28\u001b[0m \u001b[43m            \u001b[49m\u001b[43mjob_folder\u001b[49m\u001b[43m,\u001b[49m\n\u001b[1;32m     29\u001b[0m \u001b[43m            \u001b[49m\u001b[43mjob_name\u001b[49m\u001b[43m,\u001b[49m\n\u001b[1;32m     30\u001b[0m \u001b[43m            \u001b[49m\u001b[43msetup_env_script\u001b[49m\u001b[43m,\u001b[49m\n\u001b[1;32m     31\u001b[0m \u001b[43m            \u001b[49m\u001b[43mgeneration_number\u001b[49m\u001b[43m,\u001b[49m\n\u001b[1;32m     32\u001b[0m \u001b[43m            \u001b[49m\u001b[43madditionnal_command\u001b[49m\u001b[43m,\u001b[49m\n\u001b[1;32m     33\u001b[0m \u001b[43m            \u001b[49m\u001b[43ml_dependencies\u001b[49m\u001b[43m,\u001b[49m\n\u001b[1;32m     34\u001b[0m \u001b[43m            \u001b[49m\u001b[43mname_config\u001b[49m\u001b[43m,\u001b[49m\n\u001b[1;32m     35\u001b[0m \u001b[43m        \u001b[49m\u001b[43m)\u001b[49m\n\u001b[1;32m     36\u001b[0m     \u001b[38;5;28;01melse\u001b[39;00m:\n\u001b[1;32m     37\u001b[0m         file_str \u001b[38;5;241m=\u001b[39m _generate_run_file(job_folder, job_name, setup_env_script, additionnal_command)\n",
      "File \u001b[0;32m/afs/cern.ch/work/c/cdroin/private/study-DA/study_da/submit/generate_run.py:75\u001b[0m, in \u001b[0;36m_generate_run_file_htc\u001b[0;34m(job_folder, job_name, setup_env_script, generation_number, additionnal_command, l_dependencies, name_config)\u001b[0m\n\u001b[1;32m     72\u001b[0m local_path \u001b[38;5;241m=\u001b[39m abs_path\u001b[38;5;241m.\u001b[39msplit(\u001b[38;5;124m\"\u001b[39m\u001b[38;5;124m/\u001b[39m\u001b[38;5;124m\"\u001b[39m)[\u001b[38;5;241m-\u001b[39m\u001b[38;5;241m1\u001b[39m]\n\u001b[1;32m     74\u001b[0m \u001b[38;5;66;03m# Mutate all paths in config to be absolute\u001b[39;00m\n\u001b[0;32m---> 75\u001b[0m \u001b[38;5;28;01mwith\u001b[39;00m \u001b[38;5;28mopen\u001b[39m(\u001b[38;5;124mf\u001b[39m\u001b[38;5;124m\"\u001b[39m\u001b[38;5;132;01m{\u001b[39;00mabs_path\u001b[38;5;132;01m}\u001b[39;00m\u001b[38;5;124m/\u001b[39m\u001b[38;5;132;01m{\u001b[39;00mname_config\u001b[38;5;132;01m}\u001b[39;00m\u001b[38;5;124m\"\u001b[39m, \u001b[38;5;124m\"\u001b[39m\u001b[38;5;124mr\u001b[39m\u001b[38;5;124m\"\u001b[39m) \u001b[38;5;28;01mas\u001b[39;00m f:\n\u001b[1;32m     76\u001b[0m     config \u001b[38;5;241m=\u001b[39m yaml\u001b[38;5;241m.\u001b[39mload(f, Loader\u001b[38;5;241m=\u001b[39myaml\u001b[38;5;241m.\u001b[39mFullLoader)\n\u001b[1;32m     78\u001b[0m \u001b[38;5;66;03m# Mutate paths to be absolute, if they're not already absolute\u001b[39;00m\n",
      "\u001b[0;31mFileNotFoundError\u001b[0m: [Errno 2] No such file or directory: '/afs/cern.ch/work/c/cdroin/private/study-DA/tests/submit/test_hllhc16_tunescan/example_tune_scan/n_angles_5/config_hllhc16.yaml'"
     ]
    }
   ],
   "source": [
    "study_sub.generate_run_files(dic_additional_commands_per_gen, dic_dependencies_per_gen, name_config)"
   ]
  },
  {
   "cell_type": "code",
   "execution_count": 20,
   "metadata": {},
   "outputs": [
    {
     "name": "stdout",
     "output_type": "stream",
     "text": [
      "Writing submission command for node \"/afs/cern.ch/work/c/cdroin/private/study-DA/tests/submit/test_hllhc16_tunescan/example_tune_scan/n_angles_5/\"\n",
      "Jobs status after submission:\n",
      "Running: \n",
      "example_tune_scan/n_angles_5/\n",
      "queuing: \n",
      "\n",
      "example_tune_scan/n_angles_5/ is already running.\n",
      "No job being submitted.\n",
      "Jobs status after submission:\n",
      "Running: \n",
      "example_tune_scan/n_angles_5/\n",
      "queuing: \n",
      "\n",
      "example_tune_scan/n_angles_5/ is already running.\n",
      "No job being submitted.\n",
      "Jobs status after submission:\n",
      "Running: \n",
      "example_tune_scan/n_angles_5/\n",
      "queuing: \n",
      "\n",
      "example_tune_scan/n_angles_5/ is already running.\n",
      "No job being submitted.\n",
      "Jobs status after submission:\n",
      "Running: \n",
      "example_tune_scan/n_angles_5/\n",
      "queuing: \n",
      "\n",
      "example_tune_scan/n_angles_5/ is already running.\n",
      "No job being submitted.\n",
      "Jobs status after submission:\n",
      "Running: \n",
      "example_tune_scan/n_angles_5/\n",
      "queuing: \n",
      "\n",
      "Writing submission command for node \"/afs/cern.ch/work/c/cdroin/private/study-DA/tests/submit/test_hllhc16_tunescan/example_tune_scan/n_angles_5/particle_file_00_qx_62.31_qy_60.32/\"\n",
      "Writing submission command for node \"/afs/cern.ch/work/c/cdroin/private/study-DA/tests/submit/test_hllhc16_tunescan/example_tune_scan/n_angles_5/particle_file_00_qx_62.31_qy_60.33/\"\n",
      "Jobs status after submission:\n",
      "Running: \n",
      "example_tune_scan/n_angles_5/particle_file_00_qx_62.31_qy_60.32/\n",
      "example_tune_scan/n_angles_5/particle_file_00_qx_62.31_qy_60.33/\n",
      "queuing: \n",
      "\n",
      "example_tune_scan/n_angles_5/particle_file_00_qx_62.31_qy_60.32/ is already running.\n",
      "example_tune_scan/n_angles_5/particle_file_00_qx_62.31_qy_60.33/ is already running.\n",
      "No job being submitted.\n",
      "Jobs status after submission:\n",
      "Running: \n",
      "example_tune_scan/n_angles_5/particle_file_00_qx_62.31_qy_60.32/\n",
      "example_tune_scan/n_angles_5/particle_file_00_qx_62.31_qy_60.33/\n",
      "queuing: \n",
      "\n",
      "example_tune_scan/n_angles_5/particle_file_00_qx_62.31_qy_60.32/ is already running.\n",
      "example_tune_scan/n_angles_5/particle_file_00_qx_62.31_qy_60.33/ is already running.\n",
      "No job being submitted.\n",
      "Jobs status after submission:\n",
      "Running: \n",
      "example_tune_scan/n_angles_5/particle_file_00_qx_62.31_qy_60.32/\n",
      "example_tune_scan/n_angles_5/particle_file_00_qx_62.31_qy_60.33/\n",
      "queuing: \n",
      "\n",
      "All jobs are done.\n"
     ]
    }
   ],
   "source": [
    "study_sub.submit()\n",
    "#study_sub.keep_submit_until_done(wait_time = 1)"
   ]
  },
  {
   "cell_type": "code",
   "execution_count": null,
   "metadata": {},
   "outputs": [],
   "source": []
  },
  {
   "cell_type": "code",
   "execution_count": null,
   "metadata": {},
   "outputs": [],
   "source": []
  },
  {
   "cell_type": "code",
   "execution_count": null,
   "metadata": {},
   "outputs": [],
   "source": []
  }
 ],
 "metadata": {
  "kernelspec": {
   "display_name": ".venv",
   "language": "python",
   "name": "python3"
  },
  "language_info": {
   "codemirror_mode": {
    "name": "ipython",
    "version": 3
   },
   "file_extension": ".py",
   "mimetype": "text/x-python",
   "name": "python",
   "nbconvert_exporter": "python",
   "pygments_lexer": "ipython3",
   "version": "3.11.7"
  }
 },
 "nbformat": 4,
 "nbformat_minor": 2
}
