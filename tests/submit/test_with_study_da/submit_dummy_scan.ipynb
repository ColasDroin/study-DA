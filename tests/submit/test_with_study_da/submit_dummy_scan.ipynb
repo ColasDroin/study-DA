{
 "cells": [
  {
   "cell_type": "code",
   "execution_count": 1,
   "metadata": {},
   "outputs": [],
   "source": [
    "from study_da import SubmitScan"
   ]
  },
  {
   "cell_type": "code",
   "execution_count": 2,
   "metadata": {},
   "outputs": [],
   "source": [
    "study_sub = SubmitScan(path_tree = 'example_dummy_scan/tree.yaml', path_python_environment='/afs/cern.ch/work/c/cdroin/private/study-sub/.venv')"
   ]
  },
  {
   "cell_type": "code",
   "execution_count": 3,
   "metadata": {},
   "outputs": [
    {
     "name": "stdout",
     "output_type": "stream",
     "text": [
      "Found job at depth 1: example_dummy_scan/n_angles_5/generation_1.py\n",
      "Found job at depth 2: example_dummy_scan/n_angles_5/particle_file_00/generation_2.py\n"
     ]
    }
   ],
   "source": [
    "study_sub.configure_jobs()"
   ]
  },
  {
   "cell_type": "code",
   "execution_count": 4,
   "metadata": {},
   "outputs": [],
   "source": [
    "study_sub.generate_run_files()"
   ]
  },
  {
   "cell_type": "code",
   "execution_count": 5,
   "metadata": {},
   "outputs": [
    {
     "name": "stdout",
     "output_type": "stream",
     "text": [
      "Writing submission command for node \"/home/cdroin/study-DA/tests/submit/test_with_study_da/example_dummy_scan/n_angles_5/\"\n",
      "Writing submission command for node \"/home/cdroin/study-DA/tests/submit/test_with_study_da/example_dummy_scan/n_angles_6/\"\n",
      "Jobs status after submission:\n",
      "Running: \n",
      "example_dummy_scan/n_angles_5/\n",
      "example_dummy_scan/n_angles_6/\n",
      "queuing: \n",
      "\n"
     ]
    }
   ],
   "source": [
    "study_sub.submit()"
   ]
  },
  {
   "cell_type": "code",
   "execution_count": null,
   "metadata": {},
   "outputs": [],
   "source": []
  }
 ],
 "metadata": {
  "kernelspec": {
   "display_name": ".venv",
   "language": "python",
   "name": "python3"
  },
  "language_info": {
   "codemirror_mode": {
    "name": "ipython",
    "version": 3
   },
   "file_extension": ".py",
   "mimetype": "text/x-python",
   "name": "python",
   "nbconvert_exporter": "python",
   "pygments_lexer": "ipython3",
   "version": "3.11.6"
  }
 },
 "nbformat": 4,
 "nbformat_minor": 2
}
